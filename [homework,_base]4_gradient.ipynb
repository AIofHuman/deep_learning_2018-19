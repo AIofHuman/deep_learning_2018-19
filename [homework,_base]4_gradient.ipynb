{
  "nbformat": 4,
  "nbformat_minor": 0,
  "metadata": {
    "kernelspec": {
      "display_name": "Python 3",
      "language": "python",
      "name": "python3"
    },
    "language_info": {
      "codemirror_mode": {
        "name": "ipython",
        "version": 3
      },
      "file_extension": ".py",
      "mimetype": "text/x-python",
      "name": "python",
      "nbconvert_exporter": "python",
      "pygments_lexer": "ipython3",
      "version": "3.6.8"
    },
    "colab": {
      "name": "[homework, base]4_gradient.ipynb",
      "provenance": [],
      "include_colab_link": true
    }
  },
  "cells": [
    {
      "cell_type": "markdown",
      "metadata": {
        "id": "view-in-github",
        "colab_type": "text"
      },
      "source": [
        "<a href=\"https://colab.research.google.com/github/AIofHuman/deep_learning_2018-19/blob/master/%5Bhomework%2C_base%5D4_gradient.ipynb\" target=\"_parent\"><img src=\"https://colab.research.google.com/assets/colab-badge.svg\" alt=\"Open In Colab\"/></a>"
      ]
    },
    {
      "cell_type": "markdown",
      "metadata": {
        "colab_type": "text",
        "id": "KxIquH6GK7kt"
      },
      "source": [
        "<p style=\"align: center;\"><img align=center src=\"https://s8.hostingkartinok.com/uploads/images/2018/08/308b49fcfbc619d629fe4604bceb67ac.jpg\" width=500 height=450/></p>\n",
        "\n",
        "<h3 style=\"text-align: center;\"><b>\"Глубокое обучение\". Базовый поток</b></h3>\n",
        "\n",
        "<h2 style=\"text-align: center;\"><b>Домашнее задание 3. Производная, градиент и градиентный спуск.\n",
        "</b></h2>"
      ]
    },
    {
      "cell_type": "code",
      "metadata": {
        "id": "aNNbvJP_q2-J",
        "colab_type": "code",
        "colab": {}
      },
      "source": [
        "import numpy as np"
      ],
      "execution_count": 0,
      "outputs": []
    },
    {
      "cell_type": "markdown",
      "metadata": {
        "id": "WTumToHlq2-N",
        "colab_type": "text"
      },
      "source": [
        "## Задание 1 ##"
      ]
    },
    {
      "cell_type": "markdown",
      "metadata": {
        "id": "4I6x0ySuq2-O",
        "colab_type": "text"
      },
      "source": [
        "__Напоминание:__\n",
        "Если вдруг вы не помните определение производной, то вот оно:\n",
        "\n",
        "$$\\lim_{h→0}\\frac{f(x+h)−f(x)}{h}$$\n",
        "Или, что то же:\n",
        "$$\\lim_{x→x_0}\\frac{f(x)−f(x_0)}{x-x_0}$$\n",
        "\n",
        "Если такой предел существует, то и производная существует (и равна этому пределу).\n",
        "\n",
        "Какие из перечисленных функций имеют производную в нуле $(x_0 = 0)$?\n",
        "\n",
        "1) $f(x) = |x|^2$\n",
        "\n",
        "2) $f(x) = \\frac{sin(x)}{x}$\n",
        "\n",
        "3) $f(x) = |x|$\n",
        "\n",
        "4) $f(x) = \n",
        "     \\begin{cases}\n",
        "       x^2 &\\text{$x \\ne 0$}\\\\\n",
        "       0 &\\text{$x = 0$}\n",
        "     \\end{cases}$"
      ]
    },
    {
      "cell_type": "markdown",
      "metadata": {
        "id": "-x5w_g8yq2-P",
        "colab_type": "text"
      },
      "source": [
        "**Ответ:**"
      ]
    },
    {
      "cell_type": "markdown",
      "metadata": {
        "id": "0fZggkwWq2-Q",
        "colab_type": "text"
      },
      "source": [
        "## Задание 2 ##"
      ]
    },
    {
      "cell_type": "markdown",
      "metadata": {
        "id": "iuQIwdTZq2-R",
        "colab_type": "text"
      },
      "source": [
        "Посчитайте производную $f(x)=x^x$ в точке $x_0 = e$\n",
        "\n",
        "Тут надо действовать хитро. По определению взять не получится.\n",
        "\n",
        "Ответ округлите до десятых."
      ]
    },
    {
      "cell_type": "markdown",
      "metadata": {
        "id": "FUuSl1x0q2-R",
        "colab_type": "text"
      },
      "source": [
        "**Ответ:**"
      ]
    },
    {
      "cell_type": "markdown",
      "metadata": {
        "id": "wgGRAvniq2-S",
        "colab_type": "text"
      },
      "source": [
        "## Задание 3 ##"
      ]
    },
    {
      "cell_type": "markdown",
      "metadata": {
        "id": "SJPlWXtLq2-T",
        "colab_type": "text"
      },
      "source": [
        "Вычислите производную $f(x)=tg(x)⋅ln(cos(x^2)+1)$, в точке $x_0 = 0$"
      ]
    },
    {
      "cell_type": "markdown",
      "metadata": {
        "id": "qPN-e0a5q2-U",
        "colab_type": "text"
      },
      "source": [
        "**Ответ:**"
      ]
    },
    {
      "cell_type": "markdown",
      "metadata": {
        "id": "WMksyrdtq2-U",
        "colab_type": "text"
      },
      "source": [
        "## Задание 4 ##"
      ]
    },
    {
      "cell_type": "markdown",
      "metadata": {
        "id": "wdgLNIsYq2-V",
        "colab_type": "text"
      },
      "source": [
        "Предположим, у вас есть функция, и вы бы хотели знать ее производную, но у вас нет аналитического выражения для нее.\n",
        "\n",
        "Ваше задание написать функцию, которая будет вычислять производную ... *кхм* функции. Тавтология это не очень приятно, но я думаю, что Вы поняли что нужно делать.\n",
        "\n",
        "Однако не подумайте, что вас просят написать что-то, что будет вычислять эту самую производную аналитически. \n",
        "\n",
        "Попробуйте это сделать **приближенно**."
      ]
    },
    {
      "cell_type": "code",
      "metadata": {
        "id": "g4aMCZqRq2-W",
        "colab_type": "code",
        "colab": {}
      },
      "source": [
        "def numerical_derivative(func):\n",
        "    # func: float -> float\n",
        "    # yes, you need to return another function - deriv_func: float -> float\n",
        "    # which will compute derivative at any given point\n",
        "    def deriv_func(x):\n",
        "        #x: float\n",
        "        h = 0.00001\n",
        "        return (func(x + h) - func(x))/h\n",
        "        #return (func(float(x) + float(x) * h) - func(x))/h\n",
        "        \n",
        "    return deriv_func"
      ],
      "execution_count": 0,
      "outputs": []
    },
    {
      "cell_type": "code",
      "metadata": {
        "id": "3HgkQqEXq2-Y",
        "colab_type": "code",
        "colab": {
          "base_uri": "https://localhost:8080/",
          "height": 34
        },
        "outputId": "26090428-25d7-48bc-8aae-7a31078b1b75"
      },
      "source": [
        "def polynom_to_prime(x):\n",
        "    return 20*x**5 + x**3 - 5*x**2 + 2*x + 2.0\n",
        "\n",
        "def primed_poly(x):\n",
        "    return 100*x**4 + 3*x**2 -10*x + 2.0\n",
        "\n",
        "derivative_func = numerical_derivative(polynom_to_prime)\n",
        "start = -2.0\n",
        "step = 4/100.0\n",
        "right_flag = True\n",
        "debug_print = []\n",
        "for i in range(100):\n",
        "    if abs(primed_poly(start) - derivative_func(start)) > 0.05:\n",
        "        debug_print.append((abs(primed_poly(start) - derivative_func(start)), \\\n",
        "                            primed_poly(start), derivative_func(start)))\n",
        "        right_flag = False\n",
        "    start += step\n",
        "    \n",
        "print(str(right_flag))"
      ],
      "execution_count": 8,
      "outputs": [
        {
          "output_type": "stream",
          "text": [
            "True\n"
          ],
          "name": "stdout"
        }
      ]
    },
    {
      "cell_type": "code",
      "metadata": {
        "id": "B7F6DWT3rPvs",
        "colab_type": "code",
        "colab": {
          "base_uri": "https://localhost:8080/",
          "height": 34
        },
        "outputId": "d69daf76-7181-425c-f3b1-f0f947b90742"
      },
      "source": [
        "def polynom_to_prime(x):\n",
        "    return x**2\n",
        "\n",
        "def primed_poly(x):\n",
        "    return x**2\n",
        "\n",
        "derivative_func = numerical_derivative(polynom_to_prime)\n",
        "start = -2.0\n",
        "step = 4/100.0\n",
        "right_flag = True\n",
        "debug_print = []\n",
        "primed_poly(start)\n",
        "print(derivative_func(start))\n"
      ],
      "execution_count": 9,
      "outputs": [
        {
          "output_type": "stream",
          "text": [
            "-3.999990000025377\n"
          ],
          "name": "stdout"
        }
      ]
    },
    {
      "cell_type": "markdown",
      "metadata": {
        "id": "8RX4WRxyq2-a",
        "colab_type": "text"
      },
      "source": [
        "## Задание 5 ##"
      ]
    },
    {
      "cell_type": "markdown",
      "metadata": {
        "id": "s_lnbxyGq2-b",
        "colab_type": "text"
      },
      "source": [
        "В этом задании Вы должны найти минимум функций с помощью градиентного спуска.\n",
        "\n",
        "Вам на вход подаются функция `func` и ее производная `deriv` **(*)**, на выходе - точка локального минимума.\n",
        "\n",
        "Также вы можете использовать стартовую точку `good_point` как начало спуска.\n",
        "\n",
        "**(*)** - вам не нужно будет ее вычислять. То, что вы написали в предыдущем задании, вам пригодится чуть позже."
      ]
    },
    {
      "cell_type": "code",
      "metadata": {
        "id": "uXj20zGFq2-b",
        "colab_type": "code",
        "colab": {}
      },
      "source": [
        "def grad_descent(func, deriv, good_point):\n",
        "    # func: float -> float - function to minimize\n",
        "    # deriv: float -> float - derivative of f\n",
        "    # good_point: float - a good starting point\n",
        "    start = good_point\n",
        "    h = 0.01\n",
        "    x = start\n",
        "    for i in range(0,1000):\n",
        "        y = func(x)\n",
        "        if deriv(x) > 0: x = x - h\n",
        "        else: x = x + h\n",
        "        y1 = func(x)\n",
        "        if abs(y-y1) < 0.00001: break\n",
        "    return x"
      ],
      "execution_count": 0,
      "outputs": []
    },
    {
      "cell_type": "code",
      "metadata": {
        "id": "zuCrAPSEI8dA",
        "colab_type": "code",
        "colab": {
          "base_uri": "https://localhost:8080/",
          "height": 34
        },
        "outputId": "15a3f0bf-68c5-4709-d480-7b7b4e284c6c"
      },
      "source": [
        "grad_descent(lambda x: (x - 1)**4,lambda x: 4*(x - 1)**3,1.0)"
      ],
      "execution_count": 29,
      "outputs": [
        {
          "output_type": "execute_result",
          "data": {
            "text/plain": [
              "1.01"
            ]
          },
          "metadata": {
            "tags": []
          },
          "execution_count": 29
        }
      ]
    },
    {
      "cell_type": "code",
      "metadata": {
        "id": "zb2PfIMDq2-d",
        "colab_type": "code",
        "colab": {
          "base_uri": "https://localhost:8080/",
          "height": 34
        },
        "outputId": "9a856819-de5e-48fd-ccd4-c500780460c1"
      },
      "source": [
        "import numpy as np\n",
        "test_samples = {\"square\": (lambda x: x*x, lambda x: 2*x, 0.0),\n",
        "               \"module\": (lambda x: abs(x), lambda x: 1 if x > 0 else -1, 0.0),\n",
        "               \"forth_power\": (lambda x: (x - 1)**4, lambda x: 4*(x - 1)**3, 1.0),\n",
        "               \"ln_x2_1\": (lambda x: np.log((x + 1)**2 + 1), lambda x: 2*(x+ 1)/(x**2 +1), -1.0)\n",
        "               }\n",
        "\n",
        "right_flag = True\n",
        "for key in test_samples.keys():\n",
        "    (function, derivative, answer)= test_samples[key]\n",
        "    res_point = grad_descent(function, derivative, 2.0)\n",
        "    if abs(answer - res_point) > 0.1:\n",
        "        print(str(answer))\n",
        "        right_flag = False\n",
        "    \n",
        "print(right_flag)"
      ],
      "execution_count": 30,
      "outputs": [
        {
          "output_type": "stream",
          "text": [
            "True\n"
          ],
          "name": "stdout"
        }
      ]
    },
    {
      "cell_type": "markdown",
      "metadata": {
        "id": "vWc0lx1Vq2-f",
        "colab_type": "text"
      },
      "source": [
        "## Задание 6 ##"
      ]
    },
    {
      "cell_type": "markdown",
      "metadata": {
        "id": "tu334BVDq2-g",
        "colab_type": "text"
      },
      "source": [
        "Это задание чуть сложнее. Если раньше Вам нужно было просто найти минимум у довольно хорошей функции, то сейчас в тестах будут плохие. У них будет несколько минимумов и вам нужно найти глобальный у каждой функции.\n",
        "\n",
        "В общем случае такая задача невыполнима, но у вас будут одномерные функции и все самое интересное будет сосредоточено в районе нуля. Скажем, глобальный минимум будет лежать в пределах `(-3, 3)`. Вам нужно как-то изменить градиентный спуск, который вы написали в предыдущем задании, чтобы он работал и в таком случае."
      ]
    },
    {
      "cell_type": "code",
      "metadata": {
        "id": "oxnL6i2Mq2-h",
        "colab_type": "code",
        "colab": {}
      },
      "source": [
        "def grad_descent(func, deriv):\n",
        "    # func: float -> float - function to minimize\n",
        "    # deriv: float -> float - its derivative\n",
        "    start = 1.0\n",
        "    h = 0.01\n",
        "    x = start\n",
        "    ymin = func(x)\n",
        "    xmin = x\n",
        "    for i in range(0,10000):\n",
        "        y = func(x)\n",
        "        if deriv(x) > 0: x = x - h\n",
        "        else: x = x + h\n",
        "        y1 = func(x)\n",
        "        if (abs(y-y1) < 0.001) & ((x > -3.0) & (x < 3.0)):\n",
        "          if (y1 < ymin):\n",
        "            ymin = y1\n",
        "            xmin = x\n",
        "            if x < 0: x = x + 2.0\n",
        "            else: x = x - 2.0\n",
        "    return xmin"
      ],
      "execution_count": 0,
      "outputs": []
    },
    {
      "cell_type": "code",
      "metadata": {
        "id": "xLjqntYGKnBL",
        "colab_type": "code",
        "colab": {
          "base_uri": "https://localhost:8080/",
          "height": 34
        },
        "outputId": "df46ad1a-aa57-4e5b-bd3b-883862725946"
      },
      "source": [
        "grad_descent(lambda x: x**4 + 3*x**3 + x**2 - 1.5* x + 1, lambda x: 4*x**3 + 9*x**2 + 2*x - 1.5)"
      ],
      "execution_count": 220,
      "outputs": [
        {
          "output_type": "execute_result",
          "data": {
            "text/plain": [
              "-1.8800000000000008"
            ]
          },
          "metadata": {
            "tags": []
          },
          "execution_count": 220
        }
      ]
    },
    {
      "cell_type": "code",
      "metadata": {
        "id": "ya7-Yn5_LK8T",
        "colab_type": "code",
        "colab": {
          "base_uri": "https://localhost:8080/",
          "height": 265
        },
        "outputId": "e4720019-8c93-41ea-8a17-849c8ae8313f"
      },
      "source": [
        "import matplotlib.pyplot as plt\n",
        "X = np.arange(-2.5,1.0,0.01,dtype=float)\n",
        "plt.plot(X, [x**4 + 3*x**3 + x**2 - 1.5* x + 1 for x in X])\n",
        "plt.show()"
      ],
      "execution_count": 206,
      "outputs": [
        {
          "output_type": "display_data",
          "data": {
            "image/png": "[encoded data removed]",
            "text/plain": [
              "<Figure size 432x288 with 1 Axes>"
            ]
          },
          "metadata": {
            "tags": []
          }
        }
      ]
    },
    {
      "cell_type": "code",
      "metadata": {
        "id": "tBj1A3D1q2-j",
        "colab_type": "code",
        "colab": {
          "base_uri": "https://localhost:8080/",
          "height": 34
        },
        "outputId": "a75fa365-6b3f-4e97-879f-8da44559107b"
      },
      "source": [
        "dataset = {\n",
        "        \"poly1\": (lambda x: x**4 + 3*x**3 + x**2 - 1.5* x + 1,\n",
        "                  lambda x: 4*x**3 + 9*x**2 + 2*x - 1.5,\n",
        "                  -1.88),\n",
        "        \"poly2\": (lambda x: x**4 + 3*x**3 + x**2 - 2* x + 1.0,\n",
        "                 lambda x: 4*x**3 + 9*x**2 + 2*x - 2.0, \n",
        "                 0.352),\n",
        "        \"poly3\": (lambda x: x**6 + 3*x**3 + x**2 - 2* x + 1.0,\n",
        "                 lambda x: 6*x**5 + 9*x**2 + 2*x - 2.0, \n",
        "                 0.368)\n",
        "}\n",
        "\n",
        "right_flag = True\n",
        "debug_print = []\n",
        "for key in dataset.keys():\n",
        "    sample = dataset[key]\n",
        "    result = grad_descent(sample[0], sample[1])\n",
        "    answer = sample[2]\n",
        "    debug_print.append((result, answer))\n",
        "    if abs(result - answer) > 0.05:\n",
        "        print(answer)\n",
        "        right_flag = False\n",
        "        \n",
        "print(right_flag)\n"
      ],
      "execution_count": 221,
      "outputs": [
        {
          "output_type": "stream",
          "text": [
            "True\n"
          ],
          "name": "stdout"
        }
      ]
    },
    {
      "cell_type": "markdown",
      "metadata": {
        "id": "ATguWJckq2-m",
        "colab_type": "text"
      },
      "source": [
        "## Задание 7 ##"
      ]
    },
    {
      "cell_type": "markdown",
      "metadata": {
        "id": "4au4uL_zq2-n",
        "colab_type": "text"
      },
      "source": [
        "А теперь все вместе!\n",
        "\n",
        "У вас есть только функция, которую Вам отдают в качестве аргумента и вы должны найти её минимум.\n",
        "\n",
        "Вы будете искать глобальный, у вас это должно получиться лишь потому что тут они хорошие.\n",
        "\n",
        "Да, и еще, теперь они не одномерные, а двумерные.\n",
        "\n",
        "Минимум нужно искать где-то на $\\Omega = (-5, 5) \\times (-5, 5)$\n",
        "\n",
        "***Подсказка*** можете использовать следующие параметры:\n",
        "\n",
        "* Точность при вычислении производной $dx = 10^{-10}$\n",
        "* Критерий остановки - близость к ответу $\\delta = 10^{-10}$ и кол-во итераций $10^4$\n",
        "* Длина шага градиентного спуска $lr = 1$"
      ]
    },
    {
      "cell_type": "code",
      "metadata": {
        "id": "xLZ5XaAEq2-n",
        "colab_type": "code",
        "colab": {}
      },
      "source": [
        "import numpy as np\n",
        "def num_deriv(func):\n",
        "    # your code here\n",
        "    # note that func is R^2->R, implemented as np.ndarray -> float\n",
        "    def deriv_func(x):\n",
        "        #x: float\n",
        "        h = 10**(-10)\n",
        "        return (func(x + h) - func(x))/h\n",
        "        #return (func(float(x) + float(x) * h) - func(x))/h\n",
        "        \n",
        "    return deriv_func\n",
        "\n",
        "def grad_descent(func):\n",
        "    # your code here\n",
        "    # you need to return numpy array as a result, because func is (float, float) -> float,\n",
        "    # and it is implemented as: np.ndarray -> float\n",
        "    # first element of np.ndarray is the first argument and second is the second argument\n",
        "    start = np.array([-5,5])\n",
        "    h = 1.0\n",
        "    x = start\n",
        "    for i in range(0,10000):\n",
        "        y = func(x)\n",
        "        if deriv(x) > 0: x = x - h\n",
        "        else: x = x + h\n",
        "        y1 = func(x)\n",
        "        if abs(y-y1) < 10**(-10): break\n",
        "    return x"
      ],
      "execution_count": 0,
      "outputs": []
    },
    {
      "cell_type": "code",
      "metadata": {
        "id": "MHOyWJnTc09K",
        "colab_type": "code",
        "colab": {
          "base_uri": "https://localhost:8080/",
          "height": 34
        },
        "outputId": "f3ca2443-0ac1-4683-8e5f-efc97eb44ce4"
      },
      "source": [
        "print(10**(-10))"
      ],
      "execution_count": 223,
      "outputs": [
        {
          "output_type": "stream",
          "text": [
            "1e-10\n"
          ],
          "name": "stdout"
        }
      ]
    },
    {
      "cell_type": "code",
      "metadata": {
        "id": "s-K7N68sq2-p",
        "colab_type": "code",
        "colab": {}
      },
      "source": [
        "func = lambda x, y: -1/((x - 1)**2 + (y - 1.5)**2 + 1)*np.cos(2*(x - 1)**2 + 2*(y - 1.5)**2)\n",
        "def np_func(v):\n",
        "    return func(v[0], v[1])\n",
        "        \n",
        "\n",
        "point = np.array([1, 1.5])\n",
        "res_point = grad_descent(np_func)\n",
        "if np.linalg.norm(res_point - point) < 0.1:\n",
        "    print('True')\n",
        "else:\n",
        "    print('False | ' + str(np.linalg.norm(res_point - point)) + \" too far from minimum.\")"
      ],
      "execution_count": 0,
      "outputs": []
    },
    {
      "cell_type": "markdown",
      "metadata": {
        "id": "iPDj1E5Lq2-r",
        "colab_type": "text"
      },
      "source": [
        "## Задание 8 ##"
      ]
    },
    {
      "cell_type": "markdown",
      "metadata": {
        "id": "PeuKrHiFq2-s",
        "colab_type": "text"
      },
      "source": [
        "В лекции было несколько функций, чьи градиенты Вам было предложено вычислить.\n",
        "\n",
        "Вычислите градиент следующей функции:\n",
        "\n",
        "$\\psi(x,y,z) = sin(xz) - y^2z + e^x$\n",
        "\n",
        "Запишите ответ в виде строки \"$(\\psi_{x}^{'})*i + (\\psi_{y}^{'})*j + (\\psi_{z}^{'})*k$\", где вместо $\\psi_{x}^{'}, \\psi_{y}^{'}, \\psi_{z}^{'}$  подставьте вычисленные частные производные (компоненты градиента). \n",
        "\n",
        "Можно пользоваться символами \"+\", \"-\", \"*\", \"/\", \"^\", \"sin\", \"cos\", \")\", \"(\", \"e\". \n",
        "\n",
        "Примеры записи формул можно увидеть в ячейках текста задания."
      ]
    },
    {
      "cell_type": "markdown",
      "metadata": {
        "id": "WexAb6eeq2-t",
        "colab_type": "text"
      },
      "source": [
        "**Ответ:**"
      ]
    },
    {
      "cell_type": "markdown",
      "metadata": {
        "id": "HHNPkjOeq2-t",
        "colab_type": "text"
      },
      "source": [
        "## Задание 9 ##"
      ]
    },
    {
      "cell_type": "markdown",
      "metadata": {
        "id": "EXfLMWPeq2-u",
        "colab_type": "text"
      },
      "source": [
        "Еще один градиент, похожий на тот, что был на лекции:\n",
        "\n",
        "$\\psi(x,y,z) = ln(cos(e^{x+y})) - ln(xy)$ \n",
        "\n",
        "Запишите ответ в виде строки \"$(\\psi_{x}^{'})*i + (\\psi_{y}^{'})*j + (\\psi_{z}^{'})*k$\", где вместо $\\psi_{x}^{'}, \\psi_{y}^{'}, \\psi_{z}^{'}$  подставьте вычисленные частные производные (компоненты градиента). \n",
        "\n",
        "Можно пользоваться символами \"+\", \"-\", \"*\", \"/\", \"^\", \"sin\", \"cos\", \")\", \"(\", \"e\". \n",
        "\n",
        "Примеры записи формул можно увидеть в ячейках текста задания.\n",
        "\n",
        "Запишите ответ в виде строки \"()*i + ()*j\", где вместо ,  подставьте вычисленные производные (компоненты градиента). Можно пользоваться символами \"+\", \"-\", \"*\", \"/\", \"^\", \"sin\", \"cos\", \")\", \"(\", \"e\", \"ln\", \"tg\""
      ]
    },
    {
      "cell_type": "markdown",
      "metadata": {
        "id": "_B1BR2rcq2-v",
        "colab_type": "text"
      },
      "source": [
        "**Ответ:**"
      ]
    }
  ]
}